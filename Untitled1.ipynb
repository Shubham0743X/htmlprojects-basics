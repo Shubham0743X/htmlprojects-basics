{
 "cells": [
  {
   "cell_type": "code",
   "execution_count": 10,
   "id": "18026c43",
   "metadata": {},
   "outputs": [
    {
     "name": "stdout",
     "output_type": "stream",
     "text": [
      "not sure if a is less than b\n"
     ]
    }
   ],
   "source": [
    "a = 3\n",
    "b = 2\n",
    "if a < b:\n",
    "    print(\"a is less than b\")\n",
    "    print(\"a is definitely less than b\")\n",
    "print(\"not sure if a is less than b\")"
   ]
  },
  {
   "cell_type": "code",
   "execution_count": 19,
   "id": "27e79ccd",
   "metadata": {},
   "outputs": [
    {
     "name": "stdout",
     "output_type": "stream",
     "text": [
      "c = 56\n",
      "d = 95\n",
      "c is less than d\n"
     ]
    }
   ],
   "source": [
    "c = 56\n",
    "d = 95\n",
    "if c < d:\n",
    "    print(\"c = 56\")\n",
    "    print(\"d = 95\")\n",
    "    print(\"c is less than d\")\n",
    "else:\n",
    "    print(\"c = 95\")\n",
    "    print(\"d = 56\")\n",
    "    print(\"c is not les than d\")\n",
    "    print(\"i don't think c is less than d\")"
   ]
  },
  {
   "cell_type": "code",
   "execution_count": 26,
   "id": "822bfc20",
   "metadata": {},
   "outputs": [
    {
     "name": "stdout",
     "output_type": "stream",
     "text": [
      "e is greater than f more than 5\n"
     ]
    }
   ],
   "source": [
    "e = 76\n",
    "f = 65\n",
    "if e < f:\n",
    "    print(\"e is less than f\")\n",
    "elif e == f:\n",
    "    print(\"e is equal to f\")\n",
    "elif e > f + 5:\n",
    "    print(\"e is greater than f more than 5\")\n",
    "else:\n",
    "    print(\"e is greater than f\")"
   ]
  },
  {
   "cell_type": "code",
   "execution_count": 30,
   "id": "3c12910f",
   "metadata": {},
   "outputs": [
    {
     "name": "stdout",
     "output_type": "stream",
     "text": [
      "g is greater than h\n"
     ]
    }
   ],
   "source": [
    "g = 9\n",
    "h = 8\n",
    "if g < h:\n",
    "    print(\"g is less than h\")\n",
    "else:\n",
    "    if g == h:\n",
    "        print(\"g is equal to h\")\n",
    "    else:\n",
    "        print(\"g is greater than h\")"
   ]
  },
  {
   "cell_type": "code",
   "execution_count": 3,
   "id": "150acbe4",
   "metadata": {},
   "outputs": [
    {
     "name": "stdout",
     "output_type": "stream",
     "text": [
      "bmi: \n",
      "9.0\n",
      "Shubham\n",
      "is not overweight\n"
     ]
    }
   ],
   "source": [
    "Name = \"Shubham\"\n",
    "height_m = 2\n",
    "weight_kg = 36\n",
    "\n",
    "bmi = weight_kg / (height_m ** 2)\n",
    "print(\"bmi: \")\n",
    "print(bmi)\n",
    "if bmi < 25:\n",
    "    print(\"Shubham\")\n",
    "    print(\"is not overweight\")\n",
    "else:\n",
    "    print(\"Shubham\")\n",
    "    print(\"is overweight\")"
   ]
  },
  {
   "cell_type": "code",
   "execution_count": null,
   "id": "23214635",
   "metadata": {},
   "outputs": [],
   "source": []
  }
 ],
 "metadata": {
  "kernelspec": {
   "display_name": "Python 3",
   "language": "python",
   "name": "python3"
  },
  "language_info": {
   "codemirror_mode": {
    "name": "ipython",
    "version": 3
   },
   "file_extension": ".py",
   "mimetype": "text/x-python",
   "name": "python",
   "nbconvert_exporter": "python",
   "pygments_lexer": "ipython3",
   "version": "3.8.8"
  }
 },
 "nbformat": 4,
 "nbformat_minor": 5
}
