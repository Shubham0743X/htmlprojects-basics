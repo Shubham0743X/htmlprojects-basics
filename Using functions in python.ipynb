{
 "cells": [
  {
   "cell_type": "code",
   "execution_count": 1,
   "id": "a27e8062",
   "metadata": {},
   "outputs": [
    {
     "name": "stdout",
     "output_type": "stream",
     "text": [
      "This is outside of the code\n"
     ]
    }
   ],
   "source": [
    "# a collection of intructions\n",
    "# a collections of code\n",
    "def function789 ():\n",
    "    print(\"hello there\")\n",
    "print(\"This is outside of the code\")"
   ]
  },
  {
   "cell_type": "code",
   "execution_count": 2,
   "id": "705e68ad",
   "metadata": {},
   "outputs": [
    {
     "name": "stdout",
     "output_type": "stream",
     "text": [
      "hello there\n"
     ]
    }
   ],
   "source": [
    "f  = function789()"
   ]
  },
  {
   "cell_type": "code",
   "execution_count": 3,
   "id": "45834f57",
   "metadata": {},
   "outputs": [
    {
     "name": "stdout",
     "output_type": "stream",
     "text": [
      "hello there\n"
     ]
    }
   ],
   "source": [
    "function789()"
   ]
  },
  {
   "cell_type": "code",
   "execution_count": 4,
   "id": "a103649e",
   "metadata": {},
   "outputs": [
    {
     "name": "stdout",
     "output_type": "stream",
     "text": [
      "hello there\n",
      "hello there\n"
     ]
    }
   ],
   "source": [
    "function789()\n",
    "function789()"
   ]
  },
  {
   "cell_type": "code",
   "execution_count": 5,
   "id": "1a188a63",
   "metadata": {},
   "outputs": [],
   "source": [
    "# a mapping\n",
    "# input or an argument\n",
    "def function1(x):\n",
    "    return 2*x"
   ]
  },
  {
   "cell_type": "code",
   "execution_count": 6,
   "id": "f298b105",
   "metadata": {},
   "outputs": [],
   "source": [
    "a = function1(789)\n",
    "# return value or output"
   ]
  },
  {
   "cell_type": "code",
   "execution_count": 7,
   "id": "9b7f3aae",
   "metadata": {},
   "outputs": [
    {
     "name": "stdout",
     "output_type": "stream",
     "text": [
      "1578\n"
     ]
    }
   ],
   "source": [
    "print(a)"
   ]
  },
  {
   "cell_type": "code",
   "execution_count": 8,
   "id": "0072b917",
   "metadata": {},
   "outputs": [],
   "source": [
    "b = function1(4)"
   ]
  },
  {
   "cell_type": "code",
   "execution_count": 9,
   "id": "83d77ab0",
   "metadata": {},
   "outputs": [
    {
     "name": "stdout",
     "output_type": "stream",
     "text": [
      "8\n"
     ]
    }
   ],
   "source": [
    "print(b)"
   ]
  },
  {
   "cell_type": "code",
   "execution_count": 10,
   "id": "15dbba4b",
   "metadata": {},
   "outputs": [],
   "source": [
    "c = function1(5)"
   ]
  },
  {
   "cell_type": "code",
   "execution_count": 11,
   "id": "6b130ff8",
   "metadata": {},
   "outputs": [
    {
     "name": "stdout",
     "output_type": "stream",
     "text": [
      "10\n"
     ]
    }
   ],
   "source": [
    "print(c)"
   ]
  },
  {
   "cell_type": "code",
   "execution_count": 12,
   "id": "1d7ec482",
   "metadata": {},
   "outputs": [
    {
     "name": "stdout",
     "output_type": "stream",
     "text": [
      "20\n"
     ]
    }
   ],
   "source": [
    "d = function1(10)\n",
    "print(d)"
   ]
  },
  {
   "cell_type": "code",
   "execution_count": 13,
   "id": "e01ee42e",
   "metadata": {},
   "outputs": [],
   "source": [
    "def function123(x, y):\n",
    "    return x - y"
   ]
  },
  {
   "cell_type": "code",
   "execution_count": 14,
   "id": "a6e34286",
   "metadata": {},
   "outputs": [],
   "source": [
    "e = function123(5, 6)"
   ]
  },
  {
   "cell_type": "code",
   "execution_count": 15,
   "id": "98b58b97",
   "metadata": {},
   "outputs": [
    {
     "name": "stdout",
     "output_type": "stream",
     "text": [
      "-1\n"
     ]
    }
   ],
   "source": [
    "print(e)"
   ]
  },
  {
   "cell_type": "code",
   "execution_count": 16,
   "id": "2968036b",
   "metadata": {},
   "outputs": [
    {
     "name": "stdout",
     "output_type": "stream",
     "text": [
      "1578\n"
     ]
    }
   ],
   "source": [
    "print(a)"
   ]
  },
  {
   "cell_type": "code",
   "execution_count": 17,
   "id": "dddbd194",
   "metadata": {},
   "outputs": [
    {
     "name": "stdout",
     "output_type": "stream",
     "text": [
      "-1\n"
     ]
    }
   ],
   "source": [
    "print(e)"
   ]
  },
  {
   "cell_type": "code",
   "execution_count": 18,
   "id": "7901cde2",
   "metadata": {},
   "outputs": [],
   "source": [
    "g = function123(89, 56)"
   ]
  },
  {
   "cell_type": "code",
   "execution_count": 19,
   "id": "a7364709",
   "metadata": {},
   "outputs": [
    {
     "name": "stdout",
     "output_type": "stream",
     "text": [
      "33\n"
     ]
    }
   ],
   "source": [
    "print(g)"
   ]
  },
  {
   "cell_type": "code",
   "execution_count": 20,
   "id": "43d6013f",
   "metadata": {},
   "outputs": [],
   "source": [
    "def function56(x):\n",
    "    print(x)\n",
    "    print(\"still in this function\")\n",
    "    return 3*x"
   ]
  },
  {
   "cell_type": "code",
   "execution_count": 21,
   "id": "52a03529",
   "metadata": {},
   "outputs": [
    {
     "name": "stdout",
     "output_type": "stream",
     "text": [
      "9\n",
      "still in this function\n"
     ]
    }
   ],
   "source": [
    "h = function56(9)"
   ]
  },
  {
   "cell_type": "code",
   "execution_count": 22,
   "id": "9539bd72",
   "metadata": {},
   "outputs": [
    {
     "name": "stdout",
     "output_type": "stream",
     "text": [
      "27\n"
     ]
    }
   ],
   "source": [
    "print(h)"
   ]
  },
  {
   "cell_type": "code",
   "execution_count": 23,
   "id": "f2cac9e3",
   "metadata": {},
   "outputs": [],
   "source": [
    "def function89(some_argument):\n",
    "    print(some_argument)\n",
    "    print(\"ahhhh\")"
   ]
  },
  {
   "cell_type": "code",
   "execution_count": 24,
   "id": "b0c806d6",
   "metadata": {},
   "outputs": [
    {
     "name": "stdout",
     "output_type": "stream",
     "text": [
      "9\n",
      "ahhhh\n"
     ]
    }
   ],
   "source": [
    "d = function89(9)"
   ]
  },
  {
   "cell_type": "code",
   "execution_count": 25,
   "id": "f827e0fd",
   "metadata": {},
   "outputs": [
    {
     "name": "stdout",
     "output_type": "stream",
     "text": [
      "None\n"
     ]
    }
   ],
   "source": [
    "print(d)"
   ]
  },
  {
   "cell_type": "code",
   "execution_count": 26,
   "id": "2366b758",
   "metadata": {},
   "outputs": [],
   "source": [
    "# BMI Calculator\n",
    "name1 = \"shubham nag\"\n",
    "height_m1 = 2\n",
    "weight_kg1 = 36\n",
    "\n",
    "name2 = \"shruti nag\"\n",
    "height_m2 = 3\n",
    "weight_kg2 = 41\n",
    "\n",
    "name3 = \"tukai\"\n",
    "height_m3 = 4\n",
    "weight_kg3 = 70"
   ]
  },
  {
   "cell_type": "code",
   "execution_count": 27,
   "id": "f2b52b2a",
   "metadata": {},
   "outputs": [],
   "source": [
    "def bmi_calculator(name, height_m, weight_kg):\n",
    "    bmi = weight_kg / (height_m ** 2)\n",
    "    print(\"bmi\")\n",
    "    print(bmi)\n",
    "    if bmi < 25:\n",
    "        return name + \" is not overweight\"\n",
    "    else:\n",
    "        return name + \" is overweight\""
   ]
  },
  {
   "cell_type": "code",
   "execution_count": 28,
   "id": "9f3f0656",
   "metadata": {
    "scrolled": false
   },
   "outputs": [
    {
     "name": "stdout",
     "output_type": "stream",
     "text": [
      "bmi\n",
      "9.0\n",
      "bmi\n",
      "4.555555555555555\n",
      "bmi\n",
      "4.375\n"
     ]
    }
   ],
   "source": [
    "result1 = bmi_calculator(name1, height_m1, weight_kg1)\n",
    "result2 = bmi_calculator(name2, height_m2, weight_kg2)\n",
    "result3 = bmi_calculator(name3, height_m3, weight_kg3)"
   ]
  },
  {
   "cell_type": "code",
   "execution_count": 29,
   "id": "a416014f",
   "metadata": {},
   "outputs": [
    {
     "name": "stdout",
     "output_type": "stream",
     "text": [
      "shubham nag is not overweight\n",
      "shruti nag is not overweight\n",
      "tukai is not overweight\n"
     ]
    }
   ],
   "source": [
    "print(result1)\n",
    "print(result2)\n",
    "print(result3)"
   ]
  },
  {
   "cell_type": "code",
   "execution_count": 30,
   "id": "57b3a9cb",
   "metadata": {},
   "outputs": [],
   "source": [
    "# Thank You!!!"
   ]
  }
 ],
 "metadata": {
  "kernelspec": {
   "display_name": "Python 3",
   "language": "python",
   "name": "python3"
  },
  "language_info": {
   "codemirror_mode": {
    "name": "ipython",
    "version": 3
   },
   "file_extension": ".py",
   "mimetype": "text/x-python",
   "name": "python",
   "nbconvert_exporter": "python",
   "pygments_lexer": "ipython3",
   "version": "3.8.8"
  }
 },
 "nbformat": 4,
 "nbformat_minor": 5
}
